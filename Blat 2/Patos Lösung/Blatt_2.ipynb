{
 "cells": [
  {
   "cell_type": "code",
   "id": "initial_id",
   "metadata": {
    "collapsed": true,
    "ExecuteTime": {
     "end_time": "2025-10-22T13:51:23.103871Z",
     "start_time": "2025-10-22T13:51:19.257192Z"
    }
   },
   "source": "import pandas as pd",
   "outputs": [],
   "execution_count": 1
  },
  {
   "metadata": {},
   "cell_type": "markdown",
   "source": "Aufgabe 1",
   "id": "9240f7d5eb7b58f1"
  },
  {
   "metadata": {
    "ExecuteTime": {
     "end_time": "2025-10-22T15:48:10.796676Z",
     "start_time": "2025-10-22T15:48:10.790692Z"
    }
   },
   "cell_type": "code",
   "source": [
    "#a)\n",
    "df = pd.DataFrame({\"Wien\" : {\"country\": \"Österreich\",\n",
    "                             \"area\": 416.6,\n",
    "                             \"population\": 1805681\n",
    "                             },\n",
    "                   \"Berlin\": {\"country\": \"Deutschland\",\n",
    "                              \"area\": 891.85,\n",
    "                              \"population\": 3562166\n",
    "                              },\n",
    "                   \"Zürich\": {\"country\": \"Schweiz\",\n",
    "                              \"area\": 87.88,\n",
    "                              \"population\": 378884\n",
    "                              }\n",
    "                    })\n",
    "\n",
    "print(df)"
   ],
   "id": "750e8601386082ba",
   "outputs": [
    {
     "name": "stdout",
     "output_type": "stream",
     "text": [
      "                  Wien       Berlin   Zürich\n",
      "country     Österreich  Deutschland  Schweiz\n",
      "area             416.6       891.85    87.88\n",
      "population     1805681      3562166   378884\n"
     ]
    }
   ],
   "execution_count": 71
  },
  {
   "metadata": {
    "ExecuteTime": {
     "end_time": "2025-10-22T15:48:13.698142Z",
     "start_time": "2025-10-22T15:48:13.693272Z"
    }
   },
   "cell_type": "code",
   "source": [
    "#b)\n",
    "df = df.sort_index()\n",
    "print(df)"
   ],
   "id": "f689a9aac36a583c",
   "outputs": [
    {
     "name": "stdout",
     "output_type": "stream",
     "text": [
      "                  Wien       Berlin   Zürich\n",
      "area             416.6       891.85    87.88\n",
      "country     Österreich  Deutschland  Schweiz\n",
      "population     1805681      3562166   378884\n"
     ]
    }
   ],
   "execution_count": 72
  },
  {
   "metadata": {
    "ExecuteTime": {
     "end_time": "2025-10-22T15:48:15.340226Z",
     "start_time": "2025-10-22T15:48:15.331656Z"
    }
   },
   "cell_type": "code",
   "source": [
    "#c)\n",
    "df = df.T\n",
    "df = df.sort_index()\n",
    "print(df)"
   ],
   "id": "9d143795fdb73ffd",
   "outputs": [
    {
     "name": "stdout",
     "output_type": "stream",
     "text": [
      "          area      country population\n",
      "Berlin  891.85  Deutschland    3562166\n",
      "Wien     416.6   Österreich    1805681\n",
      "Zürich   87.88      Schweiz     378884\n"
     ]
    }
   ],
   "execution_count": 73
  },
  {
   "metadata": {},
   "cell_type": "markdown",
   "source": "Aufgabe 2",
   "id": "cdd37f5125ca7c55"
  },
  {
   "metadata": {
    "ExecuteTime": {
     "end_time": "2025-10-22T15:14:00.763534Z",
     "start_time": "2025-10-22T15:14:00.756789Z"
    }
   },
   "cell_type": "code",
   "source": [
    "#a)\n",
    "namen = [\"Henry\", \"Sarah\", \"Elke\", \"Lulu\", \"Vera\", \"Toni\", \"Maria\", \"Chris\"]\n",
    "\n",
    "werte = {\"Gewicht\":[65, 58, 58, 45, 43, 99, 68, 60],\n",
    "         \"Größe\":[179, 165, 172, 154, 150, 189, 176, 175]}\n",
    "\n",
    "df2 = pd.DataFrame(werte, index=namen)\n",
    "print(df2)"
   ],
   "id": "967f5b2e61ab89fd",
   "outputs": [
    {
     "name": "stdout",
     "output_type": "stream",
     "text": [
      "       Gewicht  Größe\n",
      "Henry       65    179\n",
      "Sarah       58    165\n",
      "Elke        58    172\n",
      "Lulu        45    154\n",
      "Vera        43    150\n",
      "Toni        99    189\n",
      "Maria       68    176\n",
      "Chris       60    175\n"
     ]
    }
   ],
   "execution_count": 50
  },
  {
   "metadata": {
    "ExecuteTime": {
     "end_time": "2025-10-22T15:14:02.837194Z",
     "start_time": "2025-10-22T15:14:02.825801Z"
    }
   },
   "cell_type": "code",
   "source": [
    "#b)\n",
    "bmi = df2.Gewicht / (df2.Größe/100)**2\n",
    "\n",
    "cond1 = bmi >= 18.5\n",
    "cond2 = bmi <= 25\n",
    "print(df2[cond1 & cond2])"
   ],
   "id": "ad4a11cf339e2eaf",
   "outputs": [
    {
     "name": "stdout",
     "output_type": "stream",
     "text": [
      "       Gewicht  Größe\n",
      "Henry       65    179\n",
      "Sarah       58    165\n",
      "Elke        58    172\n",
      "Lulu        45    154\n",
      "Vera        43    150\n",
      "Maria       68    176\n",
      "Chris       60    175\n"
     ]
    }
   ],
   "execution_count": 51
  },
  {
   "metadata": {
    "ExecuteTime": {
     "end_time": "2025-10-22T15:16:10.660672Z",
     "start_time": "2025-10-22T15:16:10.652465Z"
    }
   },
   "cell_type": "code",
   "source": [
    "#c)\n",
    "cond3 = df2.index.str.contains('e')\n",
    "print(df2[cond3])"
   ],
   "id": "ec7fec799b9cb0c9",
   "outputs": [
    {
     "name": "stdout",
     "output_type": "stream",
     "text": [
      "       Gewicht  Größe        BMI\n",
      "Henry       65    179  20.286508\n",
      "Elke        58    172  19.605192\n",
      "Vera        43    150  19.111111\n"
     ]
    }
   ],
   "execution_count": 55
  },
  {
   "metadata": {
    "ExecuteTime": {
     "end_time": "2025-10-22T15:14:06.058247Z",
     "start_time": "2025-10-22T15:14:06.049616Z"
    }
   },
   "cell_type": "code",
   "source": [
    "#d)\n",
    "df2.loc[:, 'BMI'] = bmi\n",
    "#df2.insert(0, 'BMI', bmi)\n",
    "print(df2)"
   ],
   "id": "2499ef5627d1eb84",
   "outputs": [
    {
     "name": "stdout",
     "output_type": "stream",
     "text": [
      "       Gewicht  Größe        BMI\n",
      "Henry       65    179  20.286508\n",
      "Sarah       58    165  21.303949\n",
      "Elke        58    172  19.605192\n",
      "Lulu        45    154  18.974532\n",
      "Vera        43    150  19.111111\n",
      "Toni        99    189  27.714790\n",
      "Maria       68    176  21.952479\n",
      "Chris       60    175  19.591837\n"
     ]
    }
   ],
   "execution_count": 52
  },
  {
   "metadata": {
    "ExecuteTime": {
     "end_time": "2025-10-22T15:14:08.430747Z",
     "start_time": "2025-10-22T15:14:08.421498Z"
    }
   },
   "cell_type": "code",
   "source": [
    "#e)\n",
    "df2 = df2.sort_values(by=['BMI'], ascending=False)\n",
    "print(df2)"
   ],
   "id": "6212e3523f201152",
   "outputs": [
    {
     "name": "stdout",
     "output_type": "stream",
     "text": [
      "       Gewicht  Größe        BMI\n",
      "Toni        99    189  27.714790\n",
      "Maria       68    176  21.952479\n",
      "Sarah       58    165  21.303949\n",
      "Henry       65    179  20.286508\n",
      "Elke        58    172  19.605192\n",
      "Chris       60    175  19.591837\n",
      "Vera        43    150  19.111111\n",
      "Lulu        45    154  18.974532\n"
     ]
    }
   ],
   "execution_count": 53
  },
  {
   "metadata": {
    "ExecuteTime": {
     "end_time": "2025-10-22T15:16:13.287501Z",
     "start_time": "2025-10-22T15:16:13.276284Z"
    }
   },
   "cell_type": "code",
   "source": [
    "#f)\n",
    "cond4 = df2.BMI < 20\n",
    "print(df2[cond3 & cond4])"
   ],
   "id": "bdf3b287d1f46a33",
   "outputs": [
    {
     "name": "stdout",
     "output_type": "stream",
     "text": [
      "      Gewicht  Größe        BMI\n",
      "Elke       58    172  19.605192\n",
      "Vera       43    150  19.111111\n"
     ]
    }
   ],
   "execution_count": 56
  }
 ],
 "metadata": {
  "kernelspec": {
   "display_name": "Python 3",
   "language": "python",
   "name": "python3"
  },
  "language_info": {
   "codemirror_mode": {
    "name": "ipython",
    "version": 2
   },
   "file_extension": ".py",
   "mimetype": "text/x-python",
   "name": "python",
   "nbconvert_exporter": "python",
   "pygments_lexer": "ipython2",
   "version": "2.7.6"
  }
 },
 "nbformat": 4,
 "nbformat_minor": 5
}
